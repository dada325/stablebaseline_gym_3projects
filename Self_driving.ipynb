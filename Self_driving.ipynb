{
  "nbformat": 4,
  "nbformat_minor": 0,
  "metadata": {
    "colab": {
      "provenance": []
    },
    "kernelspec": {
      "name": "python3",
      "display_name": "Python 3"
    },
    "language_info": {
      "name": "python"
    }
  },
  "cells": [
    {
      "cell_type": "code",
      "execution_count": null,
      "metadata": {
        "id": "OMlaqWKpEyxD"
      },
      "outputs": [],
      "source": [
        "!pip install stable-baselines3[extra]"
      ]
    },
    {
      "cell_type": "code",
      "source": [
        "!pip install gym[box2d] pyglet==1.3.2"
      ],
      "metadata": {
        "id": "S83-Ce9JE2R6"
      },
      "execution_count": null,
      "outputs": []
    },
    {
      "cell_type": "code",
      "source": [
        "import gymnasium as gym\n",
        "from stable_baselines3 import PPO\n",
        "from stable_baselines3.common.vec_env import VecFrameStack\n",
        "from stable_baselines3.common.evaluation import evaluate_policy\n",
        "import os"
      ],
      "metadata": {
        "id": "2Fi35lyJFnfK"
      },
      "execution_count": null,
      "outputs": []
    },
    {
      "cell_type": "code",
      "source": [],
      "metadata": {
        "id": "LzB-QhVpGAhu"
      },
      "execution_count": null,
      "outputs": []
    },
    {
      "cell_type": "markdown",
      "source": [
        "### Test Environment"
      ],
      "metadata": {
        "id": "n6PEwsSbGDMg"
      }
    },
    {
      "cell_type": "code",
      "source": [
        "env = gym.make(\"CarRacing-v1\", domain_randomize=True)\n",
        "\n",
        "# normal reset, this changes the colour scheme by default\n",
        "env.reset()\n",
        "\n",
        "# reset with colour scheme change\n",
        "#env.reset(options={\"randomize\": True})\n",
        "\n",
        "# reset with no colour scheme change\n",
        "#env.reset(options={\"randomize\": False})"
      ],
      "metadata": {
        "id": "7t6FkXgeGEIn"
      },
      "execution_count": null,
      "outputs": []
    },
    {
      "cell_type": "code",
      "source": [
        "episodes = 5\n",
        "for episode in range(episodes):\n",
        "    state = env.reset()\n",
        "    done = False\n",
        "    score = 0\n",
        "\n",
        "    while not done:\n",
        "        env.render()\n",
        "        action = env.action_space.sample()\n",
        "        n_state, reward, done, info = env.step(action)\n",
        "        score+=reward\n",
        "    print('Episode:{} Score:{}'.format(episode, score))\n",
        "env.close()"
      ],
      "metadata": {
        "id": "pAwg_lE4GKrN"
      },
      "execution_count": null,
      "outputs": []
    },
    {
      "cell_type": "code",
      "source": [
        "env.action_space.sample()"
      ],
      "metadata": {
        "id": "PPgk6OxeGWD5"
      },
      "execution_count": null,
      "outputs": []
    },
    {
      "cell_type": "code",
      "source": [
        "env.observation_space.sample()"
      ],
      "metadata": {
        "id": "9q_TCdKsGaNn"
      },
      "execution_count": null,
      "outputs": []
    },
    {
      "cell_type": "markdown",
      "source": [
        "### Train Model"
      ],
      "metadata": {
        "id": "ZQ2FqnsLGbF6"
      }
    },
    {
      "cell_type": "code",
      "source": [
        "log_path = os.path.join('Training', 'Logs')\n",
        "model = PPO(\"CnnPolicy\", env, verbose=1, tensorboard_log=log_path)\n",
        "model.learn(total_timesteps=40000)"
      ],
      "metadata": {
        "id": "iiKvOE5_GdTg"
      },
      "execution_count": null,
      "outputs": []
    },
    {
      "cell_type": "markdown",
      "source": [
        "### Evaluate and Test"
      ],
      "metadata": {
        "id": "XDu-P2AxGjmi"
      }
    },
    {
      "cell_type": "code",
      "source": [
        "evaluate_policy(model, env, n_eval_episodes=10, render=True)\n",
        "env.close()"
      ],
      "metadata": {
        "id": "seVer-GNGncY"
      },
      "execution_count": null,
      "outputs": []
    },
    {
      "cell_type": "code",
      "source": [
        "obs = env.reset()\n",
        "while True:\n",
        "    action, _states = model.predict(obs)\n",
        "    obs, rewards, dones, info = env.step(action)\n",
        "    env.render()\n",
        "\n",
        "env.close()"
      ],
      "metadata": {
        "id": "aaJLBlHpGq5C"
      },
      "execution_count": null,
      "outputs": []
    },
    {
      "cell_type": "code",
      "source": [],
      "metadata": {
        "id": "Gw0yyXwkGz2f"
      },
      "execution_count": null,
      "outputs": []
    }
  ]
}